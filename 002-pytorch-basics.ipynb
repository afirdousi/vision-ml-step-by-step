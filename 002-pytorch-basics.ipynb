{
 "cells": [
  {
   "cell_type": "code",
   "execution_count": 1,
   "id": "8d1d0e03-0438-49c6-b8e9-d33a82460c60",
   "metadata": {},
   "outputs": [],
   "source": [
    "# Initialize Tensor\n",
    "import torch\n",
    "x = torch.tensor([[1,2]])\n",
    "y = torch.tensor([[1],[2]])"
   ]
  },
  {
   "cell_type": "code",
   "execution_count": 2,
   "id": "5991dcfe-5f8d-4139-be98-dec97f7cc33a",
   "metadata": {},
   "outputs": [
    {
     "name": "stdout",
     "output_type": "stream",
     "text": [
      "torch.Size([1, 2])\n",
      "torch.int64\n",
      "torch.Size([2, 1])\n",
      "torch.int64\n"
     ]
    }
   ],
   "source": [
    "print(x.shape)\n",
    "print(x.dtype)\n",
    "\n",
    "print(y.shape)\n",
    "print(y.dtype)"
   ]
  },
  {
   "cell_type": "code",
   "execution_count": 5,
   "id": "435e0ec8-bed7-4747-a00f-d1eee250b286",
   "metadata": {},
   "outputs": [
    {
     "name": "stdout",
     "output_type": "stream",
     "text": [
      "tensor([0., 1., 2.])\n"
     ]
    }
   ],
   "source": [
    "# The data type of all elements within a tensor is the same. That means if a tensor contains data of different data types \n",
    "# (such as a Boolean, an integer, and a float), the entire tensor is coerced to the most generic data type:\n",
    "\n",
    "x = torch.tensor([False, 1, 2.0])\n",
    "print(x)"
   ]
  },
  {
   "cell_type": "code",
   "execution_count": null,
   "id": "f8840936-8a76-4fae-9eb0-921de7b7942d",
   "metadata": {},
   "outputs": [],
   "source": [
    "# As you can see in the output of the preceding code, False, which was a Boolean, and 1, which was an integer, \n",
    "# were converted into floating-point numbers."
   ]
  },
  {
   "cell_type": "code",
   "execution_count": null,
   "id": "fdd65b6d-0207-482b-bafb-f6af5fa4de11",
   "metadata": {},
   "outputs": [],
   "source": [
    "print(\"Testing in VSCode\")"
   ]
  },
  {
   "cell_type": "code",
   "execution_count": null,
   "id": "12240075",
   "metadata": {},
   "outputs": [],
   "source": []
  }
 ],
 "metadata": {
  "kernelspec": {
   "display_name": "Python 3 (ipykernel)",
   "language": "python",
   "name": "python3"
  },
  "language_info": {
   "codemirror_mode": {
    "name": "ipython",
    "version": 3
   },
   "file_extension": ".py",
   "mimetype": "text/x-python",
   "name": "python",
   "nbconvert_exporter": "python",
   "pygments_lexer": "ipython3",
   "version": "3.9.13"
  }
 },
 "nbformat": 4,
 "nbformat_minor": 5
}
